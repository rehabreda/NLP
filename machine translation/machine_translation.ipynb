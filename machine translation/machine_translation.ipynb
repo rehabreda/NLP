{
  "nbformat": 4,
  "nbformat_minor": 0,
  "metadata": {
    "colab": {
      "name": "machine translation .ipynb",
      "provenance": [],
      "collapsed_sections": [],
      "machine_shape": "hm"
    },
    "kernelspec": {
      "name": "python3",
      "display_name": "Python 3"
    },
    "accelerator": "GPU"
  },
  "cells": [
    {
      "cell_type": "code",
      "metadata": {
        "id": "JKvB4XZ-bxMj",
        "colab_type": "code",
        "colab": {
          "base_uri": "https://localhost:8080/",
          "height": 202
        },
        "outputId": "67e6c4af-0cf7-42d9-ba37-fdb52a1b6ba3"
      },
      "source": [
        "### get data \n",
        "!wget http://www.manythings.org/anki/deu-eng.zip"
      ],
      "execution_count": 1,
      "outputs": [
        {
          "output_type": "stream",
          "text": [
            "--2020-07-22 10:55:56--  http://www.manythings.org/anki/deu-eng.zip\n",
            "Resolving www.manythings.org (www.manythings.org)... 104.24.108.196, 172.67.173.198, 104.24.109.196, ...\n",
            "Connecting to www.manythings.org (www.manythings.org)|104.24.108.196|:80... connected.\n",
            "HTTP request sent, awaiting response... 200 OK\n",
            "Length: 8171564 (7.8M) [application/zip]\n",
            "Saving to: ‘deu-eng.zip’\n",
            "\n",
            "deu-eng.zip         100%[===================>]   7.79M  15.6MB/s    in 0.5s    \n",
            "\n",
            "2020-07-22 10:55:56 (15.6 MB/s) - ‘deu-eng.zip’ saved [8171564/8171564]\n",
            "\n"
          ],
          "name": "stdout"
        }
      ]
    },
    {
      "cell_type": "code",
      "metadata": {
        "id": "CbE4gntxb_k8",
        "colab_type": "code",
        "colab": {
          "base_uri": "https://localhost:8080/",
          "height": 67
        },
        "outputId": "07d0b16a-7ff0-4aa8-8a31-7a904548996d"
      },
      "source": [
        "!unzip '/content/deu-eng.zip'"
      ],
      "execution_count": 2,
      "outputs": [
        {
          "output_type": "stream",
          "text": [
            "Archive:  /content/deu-eng.zip\n",
            "  inflating: deu.txt                 \n",
            "  inflating: _about.txt              \n"
          ],
          "name": "stdout"
        }
      ]
    },
    {
      "cell_type": "code",
      "metadata": {
        "id": "zse7NQSocE8L",
        "colab_type": "code",
        "colab": {
          "base_uri": "https://localhost:8080/",
          "height": 34
        },
        "outputId": "09fc26dc-9f23-43e9-918e-4cae231c4be9"
      },
      "source": [
        "#####import libraries \n",
        "import numpy as np \n",
        "import pandas as pd \n",
        "import os \n",
        "import pickle \n",
        "import re \n",
        "import string\n",
        "from keras.applications.vgg16 import VGG16 , preprocess_input\n",
        "from keras.preprocessing.image import load_img ,img_to_array \n",
        "from keras.preprocessing.text import Tokenizer \n",
        "from keras.preprocessing.sequence import pad_sequences\n",
        "from keras.models import Model\n",
        "from keras.utils import to_categorical\n",
        "from keras.layers import LSTM ,Input ,Embedding ,Dropout ,Dense\n",
        "from keras.layers.merge import  add\n",
        "from keras.utils.vis_utils import plot_model\n",
        "from unicodedata import normalize\n",
        "from keras.layers import RepeatVector\n",
        "from keras.layers import TimeDistributed\n",
        "from keras.callbacks import ModelCheckpoint\n",
        "from keras.models import Sequential"
      ],
      "execution_count": 1,
      "outputs": [
        {
          "output_type": "stream",
          "text": [
            "Using TensorFlow backend.\n"
          ],
          "name": "stderr"
        }
      ]
    },
    {
      "cell_type": "code",
      "metadata": {
        "id": "Dr6U219RchU7",
        "colab_type": "code",
        "colab": {}
      },
      "source": [
        "## load document\n",
        "def load_doc(file):\n",
        "  with open(file,mode='rt',encoding='utf-8') as f:\n",
        "    text=f.read()\n",
        "  return text  "
      ],
      "execution_count": 2,
      "outputs": []
    },
    {
      "cell_type": "code",
      "metadata": {
        "id": "mtnjF1wPc7Aw",
        "colab_type": "code",
        "colab": {}
      },
      "source": [
        "### get english - german pairs \n",
        "def to_pairs(doc):\n",
        "  lines = doc.strip().split('\\n')\n",
        "  pairs=[line.split('\\t')[:2] for line in lines]\n",
        " \n",
        "  return pairs"
      ],
      "execution_count": 3,
      "outputs": []
    },
    {
      "cell_type": "code",
      "metadata": {
        "id": "aP2SkPaadWj1",
        "colab_type": "code",
        "colab": {}
      },
      "source": [
        "doc=load_doc('/content/deu.txt')\n",
        "pairs=to_pairs(doc)\n"
      ],
      "execution_count": 4,
      "outputs": []
    },
    {
      "cell_type": "code",
      "metadata": {
        "id": "cBx99esndh1X",
        "colab_type": "code",
        "colab": {
          "base_uri": "https://localhost:8080/",
          "height": 34
        },
        "outputId": "42a2210e-490d-459f-a750-55997ede63da"
      },
      "source": [
        "pairs[0]"
      ],
      "execution_count": 5,
      "outputs": [
        {
          "output_type": "execute_result",
          "data": {
            "text/plain": [
              "['Go.', 'Geh.']"
            ]
          },
          "metadata": {
            "tags": []
          },
          "execution_count": 5
        }
      ]
    },
    {
      "cell_type": "code",
      "metadata": {
        "id": "O5cAwgj0diaW",
        "colab_type": "code",
        "colab": {}
      },
      "source": [
        "### clean pairs \n",
        "def clean_pairs(lines):\n",
        "\tcleaned = list()\n",
        "\t# prepare regex for char filtering\n",
        "\tre_punc = re.compile('[%s]' % re.escape(string.punctuation))\n",
        "\tre_print = re.compile('[^%s]' % re.escape(string.printable))\n",
        "\tfor pair in lines:\n",
        "\t\tclean_pair = list()\n",
        "\t\tfor line in pair:\n",
        "\t\t\t# normalize unicode characters\n",
        "\t\t\tline = normalize('NFD', line).encode('ascii', 'ignore')\n",
        "\t\t\tline = line.decode('UTF-8')\n",
        "\t\t\t# tokenize on white space\n",
        "\t\t\tline = line.split()\n",
        "\t\t\t# convert to lowercase\n",
        "\t\t\tline = [word.lower() for word in line]\n",
        "\t\t\t# remove punctuation from each token\n",
        "\t\t\tline = [re_punc.sub('', w) for w in line]\n",
        "\t\t\t# remove non-printable chars form each token\n",
        "\t\t\tline = [re_print.sub('', w) for w in line]\n",
        "\t\t\t# remove tokens with numbers in them\n",
        "\t\t\tline = [word for word in line if word.isalpha()]\n",
        "\t\t\t# store as string\n",
        "\t\t\tclean_pair.append(' '.join(line))\n",
        "\t\tcleaned.append(clean_pair)\n",
        "\treturn np.array(cleaned,dtype=object)\n",
        "   \n"
      ],
      "execution_count": 6,
      "outputs": []
    },
    {
      "cell_type": "code",
      "metadata": {
        "id": "w8YTSJr3bmck",
        "colab_type": "code",
        "colab": {}
      },
      "source": [
        "def clean_input(seed):\n",
        "  re_print = re.compile('[^%s]' % re.escape(string.printable)) \n",
        "  re_punc = re.compile('[%s]' % re.escape(string.punctuation))\n",
        "\t\n",
        "  line = normalize('NFD', seed).encode('ascii', 'ignore')\n",
        "  line = line.decode('UTF-8')\n",
        "  # tokenize on white space\n",
        "  line = line.split()\n",
        "  # convert to lowercase\n",
        "  line = [word.lower() for word in line]\n",
        "  # remove punctuation from each token\n",
        "  line = [re_punc.sub('', w) for w in line]\n",
        "  # remove non-printable chars form each token\n",
        "  line = [re_print.sub('', w) for w in line]\n",
        "  # remove tokens with numbers in them\n",
        "  line = [word for word in line if word.isalpha()]\n",
        "  return ' '.join(line)\n",
        "  \n",
        " \n"
      ],
      "execution_count": 7,
      "outputs": []
    },
    {
      "cell_type": "code",
      "metadata": {
        "id": "vWUPO2SOg5XU",
        "colab_type": "code",
        "colab": {}
      },
      "source": [
        "cleaned_pairs=clean_pairs(pairs)"
      ],
      "execution_count": 8,
      "outputs": []
    },
    {
      "cell_type": "code",
      "metadata": {
        "id": "CgBV7-bLkfSc",
        "colab_type": "code",
        "colab": {
          "base_uri": "https://localhost:8080/",
          "height": 34
        },
        "outputId": "3e275759-d56e-4ae3-bc1d-7f2b5b39f65b"
      },
      "source": [
        "\n",
        "cleaned_pairs.shape\n"
      ],
      "execution_count": 9,
      "outputs": [
        {
          "output_type": "execute_result",
          "data": {
            "text/plain": [
              "(217032, 2)"
            ]
          },
          "metadata": {
            "tags": []
          },
          "execution_count": 9
        }
      ]
    },
    {
      "cell_type": "code",
      "metadata": {
        "id": "_IuYd2KHoJIn",
        "colab_type": "code",
        "colab": {}
      },
      "source": [
        "def save_clean_data(sentences,filename):\n",
        "  pickle.dump(sentences,open(filename,'wb'))"
      ],
      "execution_count": 10,
      "outputs": []
    },
    {
      "cell_type": "code",
      "metadata": {
        "id": "QS6JY7PN1zjE",
        "colab_type": "code",
        "colab": {}
      },
      "source": [
        "save_clean_data(cleaned_pairs,'english-german.pkl')"
      ],
      "execution_count": 11,
      "outputs": []
    },
    {
      "cell_type": "code",
      "metadata": {
        "id": "LxaJJfpR11Kk",
        "colab_type": "code",
        "colab": {}
      },
      "source": [
        "def load_clean_data(filename):\n",
        "  return pickle.load(open(filename, 'rb'))"
      ],
      "execution_count": 12,
      "outputs": []
    },
    {
      "cell_type": "code",
      "metadata": {
        "id": "Uov7oRbT2Off",
        "colab_type": "code",
        "colab": {}
      },
      "source": [
        "raw_datasets=load_clean_data('/content/english-german.pkl')"
      ],
      "execution_count": 13,
      "outputs": []
    },
    {
      "cell_type": "code",
      "metadata": {
        "id": "4ve4gCQa2t4e",
        "colab_type": "code",
        "colab": {
          "base_uri": "https://localhost:8080/",
          "height": 34
        },
        "outputId": "37fc10eb-7706-4dcc-a48a-4ed8fa1b00f2"
      },
      "source": [
        "raw_datasets.shape"
      ],
      "execution_count": 14,
      "outputs": [
        {
          "output_type": "execute_result",
          "data": {
            "text/plain": [
              "(217032, 2)"
            ]
          },
          "metadata": {
            "tags": []
          },
          "execution_count": 14
        }
      ]
    },
    {
      "cell_type": "code",
      "metadata": {
        "id": "OMcoKb0Q2Uea",
        "colab_type": "code",
        "colab": {}
      },
      "source": [
        "n_sentences = 13000\n",
        "#datasets=raw_datasets[:n_sentences,:]\n",
        "np.random.shuffle(raw_datasets)\n",
        "datasets=raw_datasets[:n_sentences,:]"
      ],
      "execution_count": 18,
      "outputs": []
    },
    {
      "cell_type": "code",
      "metadata": {
        "id": "GjuDF8eM2pLE",
        "colab_type": "code",
        "colab": {
          "base_uri": "https://localhost:8080/",
          "height": 50
        },
        "outputId": "f093f2ef-c9bd-42b1-b908-172908f1654c"
      },
      "source": [
        "train, test = datasets[:12000], datasets[12000:]\n",
        "print(train.shape)\n",
        "print(test.shape)"
      ],
      "execution_count": 19,
      "outputs": [
        {
          "output_type": "stream",
          "text": [
            "(12000, 2)\n",
            "(1000, 2)\n"
          ],
          "name": "stdout"
        }
      ]
    },
    {
      "cell_type": "code",
      "metadata": {
        "id": "V9SfaA-H3Uuk",
        "colab_type": "code",
        "colab": {}
      },
      "source": [
        "### make tokenizer\n",
        "def create_tokenizer(lines):\n",
        "  tokenizer=Tokenizer()\n",
        "  tokenizer.fit_on_texts(lines)\n",
        "  return tokenizer"
      ],
      "execution_count": 20,
      "outputs": []
    },
    {
      "cell_type": "code",
      "metadata": {
        "id": "SG2VHzx_Le9B",
        "colab_type": "code",
        "colab": {}
      },
      "source": [
        "## get max length \n",
        "def max_length(lines):\n",
        "  return max([len(line.split()) for line in lines])"
      ],
      "execution_count": 21,
      "outputs": []
    },
    {
      "cell_type": "code",
      "metadata": {
        "id": "bu3N8ntNL3mM",
        "colab_type": "code",
        "colab": {}
      },
      "source": [
        "###encode text \n",
        "def encode_sequences(tokenizer,max_length,lines):\n",
        "  encoded=tokenizer.texts_to_sequences(lines)\n",
        "  padded_sequences=pad_sequences(encoded,maxlen=max_length,padding='post')\n",
        "  return padded_sequences"
      ],
      "execution_count": 22,
      "outputs": []
    },
    {
      "cell_type": "code",
      "metadata": {
        "id": "zEqdbIgXMbR0",
        "colab_type": "code",
        "colab": {}
      },
      "source": [
        "### hot encode output \n",
        "def encode_output(sequences,vocab_size):\n",
        "  y=list()\n",
        "  for sequence in sequences:\n",
        "    encoded=to_categorical(sequence,num_classes=vocab_size)\n",
        "    y.append(encoded)\n",
        "  y=np.array(y)\n",
        "  y=y.reshape(sequences.shape[0],sequences.shape[1],vocab_size)  \n",
        "  return y"
      ],
      "execution_count": 23,
      "outputs": []
    },
    {
      "cell_type": "code",
      "metadata": {
        "id": "TrwGMXvkNajk",
        "colab_type": "code",
        "colab": {}
      },
      "source": [
        "def define_model(src_vocab, tar_vocab, src_timesteps, tar_timesteps, n_units):\n",
        "  model=Sequential()\n",
        "  model.add(Embedding(src_vocab,n_units,input_length=src_timesteps,mask_zero=True))\n",
        "  model.add(LSTM(n_units))\n",
        "  model.add(RepeatVector(tar_timesteps))\n",
        "  model.add(LSTM(n_units,return_sequences=True))\n",
        "  model.add(TimeDistributed(Dense(tar_vocab,activation='softmax')))\n",
        "  model.compile(optimizer='adam', loss='categorical_crossentropy')\n",
        "  return model \n"
      ],
      "execution_count": 24,
      "outputs": []
    },
    {
      "cell_type": "code",
      "metadata": {
        "id": "wXWC5BhpQl4W",
        "colab_type": "code",
        "colab": {
          "base_uri": "https://localhost:8080/",
          "height": 50
        },
        "outputId": "3f5ccd44-5095-4318-fd71-7d0894544eb9"
      },
      "source": [
        "### prepare english tokenizer \n",
        "eng_tokenizer=create_tokenizer(datasets[:,0])\n",
        "eng_vocab_size=len(eng_tokenizer.word_index)+1\n",
        "english_length=max_length(datasets[:,0])\n",
        "print('English Vocabulary Size: %d' % eng_vocab_size)\n",
        "print('English Max Length: %d' % (english_length))"
      ],
      "execution_count": 25,
      "outputs": [
        {
          "output_type": "stream",
          "text": [
            "English Vocabulary Size: 5470\n",
            "English Max Length: 32\n"
          ],
          "name": "stdout"
        }
      ]
    },
    {
      "cell_type": "code",
      "metadata": {
        "id": "-f9sdBHtUQsG",
        "colab_type": "code",
        "colab": {
          "base_uri": "https://localhost:8080/",
          "height": 50
        },
        "outputId": "6bfc3527-2841-44c8-8663-1615b8499862"
      },
      "source": [
        "# prepare german tokenizer\n",
        "ger_tokenizer = create_tokenizer(datasets[:, 1])\n",
        "ger_vocab_size = len(ger_tokenizer.word_index) + 1\n",
        "ger_length = max_length(datasets[:, 1])\n",
        "print('German Vocabulary Size: %d' % ger_vocab_size)\n",
        "print('German Max Length: %d' % (ger_length))"
      ],
      "execution_count": 26,
      "outputs": [
        {
          "output_type": "stream",
          "text": [
            "German Vocabulary Size: 8303\n",
            "German Max Length: 33\n"
          ],
          "name": "stdout"
        }
      ]
    },
    {
      "cell_type": "code",
      "metadata": {
        "id": "MBSeqTtmUcfN",
        "colab_type": "code",
        "colab": {}
      },
      "source": [
        "### prepare training data \n",
        "x_train=encode_sequences(ger_tokenizer,ger_length, train[:,1])\n",
        "y_train=encode_sequences(eng_tokenizer,english_length,train[:,0])\n",
        "y_train=encode_output(y_train,eng_vocab_size)"
      ],
      "execution_count": 27,
      "outputs": []
    },
    {
      "cell_type": "code",
      "metadata": {
        "id": "ljVJCIEiVLep",
        "colab_type": "code",
        "colab": {}
      },
      "source": [
        "### prepare test  data \n",
        "x_test=encode_sequences(ger_tokenizer,ger_length, test[:,1])\n",
        "y_test=encode_sequences(eng_tokenizer,english_length,test[:,0])\n",
        "y_test=encode_output(y_test,eng_vocab_size)"
      ],
      "execution_count": 28,
      "outputs": []
    },
    {
      "cell_type": "code",
      "metadata": {
        "id": "LuPAzrffVddW",
        "colab_type": "code",
        "colab": {}
      },
      "source": [
        "model = define_model(ger_vocab_size, eng_vocab_size, ger_length, english_length, 256)"
      ],
      "execution_count": 29,
      "outputs": []
    },
    {
      "cell_type": "code",
      "metadata": {
        "id": "7bxIXwKNVjyC",
        "colab_type": "code",
        "colab": {
          "base_uri": "https://localhost:8080/",
          "height": 564
        },
        "outputId": "94b75f62-0253-4621-9b6f-539a0c303904"
      },
      "source": [
        "plot_model(model)"
      ],
      "execution_count": 30,
      "outputs": [
        {
          "output_type": "execute_result",
          "data": {
            "image/png": "[encoded data removed]",
            "text/plain": [
              "<IPython.core.display.Image object>"
            ]
          },
          "metadata": {
            "tags": []
          },
          "execution_count": 30
        }
      ]
    },
    {
      "cell_type": "code",
      "metadata": {
        "id": "DPXSfLYMVs6F",
        "colab_type": "code",
        "colab": {}
      },
      "source": [
        "checkpoint = ModelCheckpoint('model.h5', monitor='val_loss', verbose=1, save_best_only=True, mode='min')"
      ],
      "execution_count": 31,
      "outputs": []
    },
    {
      "cell_type": "code",
      "metadata": {
        "id": "ueMfCcgVVw0l",
        "colab_type": "code",
        "colab": {
          "base_uri": "https://localhost:8080/",
          "height": 1000
        },
        "outputId": "be7159df-4825-4b52-e7b5-2eb2c4e5e5b7"
      },
      "source": [
        "model.fit(x_train, y_train, epochs=50, batch_size=64, validation_data=(x_test, y_test), callbacks=[checkpoint], verbose=2)"
      ],
      "execution_count": 32,
      "outputs": [
        {
          "output_type": "stream",
          "text": [
            "/usr/local/lib/python3.6/dist-packages/tensorflow/python/framework/indexed_slices.py:434: UserWarning: Converting sparse IndexedSlices to a dense Tensor of unknown shape. This may consume a large amount of memory.\n",
            "  \"Converting sparse IndexedSlices to a dense Tensor of unknown shape. \"\n"
          ],
          "name": "stderr"
        },
        {
          "output_type": "stream",
          "text": [
            "Train on 12000 samples, validate on 1000 samples\n",
            "Epoch 1/50\n",
            " - 41s - loss: 1.9236 - val_loss: 1.4067\n",
            "\n",
            "Epoch 00001: val_loss improved from inf to 1.40665, saving model to model.h5\n",
            "Epoch 2/50\n",
            " - 38s - loss: 1.3492 - val_loss: 1.3397\n",
            "\n",
            "Epoch 00002: val_loss improved from 1.40665 to 1.33974, saving model to model.h5\n",
            "Epoch 3/50\n",
            " - 37s - loss: 1.2821 - val_loss: 1.3090\n",
            "\n",
            "Epoch 00003: val_loss improved from 1.33974 to 1.30904, saving model to model.h5\n",
            "Epoch 4/50\n",
            " - 38s - loss: 1.2553 - val_loss: 1.3053\n",
            "\n",
            "Epoch 00004: val_loss improved from 1.30904 to 1.30525, saving model to model.h5\n",
            "Epoch 5/50\n",
            " - 38s - loss: 1.2366 - val_loss: 1.3125\n",
            "\n",
            "Epoch 00005: val_loss did not improve from 1.30525\n",
            "Epoch 6/50\n",
            " - 38s - loss: 1.2258 - val_loss: 1.3179\n",
            "\n",
            "Epoch 00006: val_loss did not improve from 1.30525\n",
            "Epoch 7/50\n",
            " - 38s - loss: 1.2143 - val_loss: 1.3053\n",
            "\n",
            "Epoch 00007: val_loss did not improve from 1.30525\n",
            "Epoch 8/50\n",
            " - 37s - loss: 1.2052 - val_loss: 1.3000\n",
            "\n",
            "Epoch 00008: val_loss improved from 1.30525 to 1.29997, saving model to model.h5\n",
            "Epoch 9/50\n",
            " - 37s - loss: 1.1987 - val_loss: 1.2998\n",
            "\n",
            "Epoch 00009: val_loss improved from 1.29997 to 1.29982, saving model to model.h5\n",
            "Epoch 10/50\n",
            " - 38s - loss: 1.1886 - val_loss: 1.2969\n",
            "\n",
            "Epoch 00010: val_loss improved from 1.29982 to 1.29695, saving model to model.h5\n",
            "Epoch 11/50\n",
            " - 37s - loss: 1.1706 - val_loss: 1.2881\n",
            "\n",
            "Epoch 00011: val_loss improved from 1.29695 to 1.28806, saving model to model.h5\n",
            "Epoch 12/50\n",
            " - 37s - loss: 1.1481 - val_loss: 1.2871\n",
            "\n",
            "Epoch 00012: val_loss improved from 1.28806 to 1.28715, saving model to model.h5\n",
            "Epoch 13/50\n",
            " - 38s - loss: 1.1320 - val_loss: 1.2802\n",
            "\n",
            "Epoch 00013: val_loss improved from 1.28715 to 1.28024, saving model to model.h5\n",
            "Epoch 14/50\n",
            " - 37s - loss: 1.1178 - val_loss: 1.2733\n",
            "\n",
            "Epoch 00014: val_loss improved from 1.28024 to 1.27332, saving model to model.h5\n",
            "Epoch 15/50\n",
            " - 37s - loss: 1.1054 - val_loss: 1.2729\n",
            "\n",
            "Epoch 00015: val_loss improved from 1.27332 to 1.27293, saving model to model.h5\n",
            "Epoch 16/50\n",
            " - 36s - loss: 1.0888 - val_loss: 1.2594\n",
            "\n",
            "Epoch 00016: val_loss improved from 1.27293 to 1.25939, saving model to model.h5\n",
            "Epoch 17/50\n",
            " - 37s - loss: 1.0684 - val_loss: 1.2577\n",
            "\n",
            "Epoch 00017: val_loss improved from 1.25939 to 1.25771, saving model to model.h5\n",
            "Epoch 18/50\n",
            " - 37s - loss: 1.0471 - val_loss: 1.2580\n",
            "\n",
            "Epoch 00018: val_loss did not improve from 1.25771\n",
            "Epoch 19/50\n",
            " - 36s - loss: 1.0259 - val_loss: 1.2411\n",
            "\n",
            "Epoch 00019: val_loss improved from 1.25771 to 1.24115, saving model to model.h5\n",
            "Epoch 20/50\n",
            " - 36s - loss: 1.0010 - val_loss: 1.2275\n",
            "\n",
            "Epoch 00020: val_loss improved from 1.24115 to 1.22754, saving model to model.h5\n",
            "Epoch 21/50\n",
            " - 36s - loss: 0.9740 - val_loss: 1.2153\n",
            "\n",
            "Epoch 00021: val_loss improved from 1.22754 to 1.21528, saving model to model.h5\n",
            "Epoch 22/50\n",
            " - 37s - loss: 0.9479 - val_loss: 1.2229\n",
            "\n",
            "Epoch 00022: val_loss did not improve from 1.21528\n",
            "Epoch 23/50\n",
            " - 37s - loss: 0.9218 - val_loss: 1.2121\n",
            "\n",
            "Epoch 00023: val_loss improved from 1.21528 to 1.21205, saving model to model.h5\n",
            "Epoch 24/50\n",
            " - 37s - loss: 0.8946 - val_loss: 1.2066\n",
            "\n",
            "Epoch 00024: val_loss improved from 1.21205 to 1.20664, saving model to model.h5\n",
            "Epoch 25/50\n",
            " - 37s - loss: 0.8677 - val_loss: 1.1992\n",
            "\n",
            "Epoch 00025: val_loss improved from 1.20664 to 1.19915, saving model to model.h5\n",
            "Epoch 26/50\n",
            " - 37s - loss: 0.8402 - val_loss: 1.1940\n",
            "\n",
            "Epoch 00026: val_loss improved from 1.19915 to 1.19400, saving model to model.h5\n",
            "Epoch 27/50\n",
            " - 37s - loss: 0.8146 - val_loss: 1.1869\n",
            "\n",
            "Epoch 00027: val_loss improved from 1.19400 to 1.18691, saving model to model.h5\n",
            "Epoch 28/50\n",
            " - 37s - loss: 0.7867 - val_loss: 1.1781\n",
            "\n",
            "Epoch 00028: val_loss improved from 1.18691 to 1.17813, saving model to model.h5\n",
            "Epoch 29/50\n",
            " - 37s - loss: 0.7574 - val_loss: 1.1677\n",
            "\n",
            "Epoch 00029: val_loss improved from 1.17813 to 1.16766, saving model to model.h5\n",
            "Epoch 30/50\n",
            " - 37s - loss: 0.7281 - val_loss: 1.1765\n",
            "\n",
            "Epoch 00030: val_loss did not improve from 1.16766\n",
            "Epoch 31/50\n",
            " - 37s - loss: 0.6999 - val_loss: 1.1679\n",
            "\n",
            "Epoch 00031: val_loss did not improve from 1.16766\n",
            "Epoch 32/50\n",
            " - 37s - loss: 0.6706 - val_loss: 1.1676\n",
            "\n",
            "Epoch 00032: val_loss improved from 1.16766 to 1.16760, saving model to model.h5\n",
            "Epoch 33/50\n",
            " - 38s - loss: 0.6430 - val_loss: 1.1611\n",
            "\n",
            "Epoch 00033: val_loss improved from 1.16760 to 1.16111, saving model to model.h5\n",
            "Epoch 34/50\n",
            " - 37s - loss: 0.6157 - val_loss: 1.1650\n",
            "\n",
            "Epoch 00034: val_loss did not improve from 1.16111\n",
            "Epoch 35/50\n",
            " - 38s - loss: 0.5881 - val_loss: 1.1632\n",
            "\n",
            "Epoch 00035: val_loss did not improve from 1.16111\n",
            "Epoch 36/50\n",
            " - 37s - loss: 0.5631 - val_loss: 1.1626\n",
            "\n",
            "Epoch 00036: val_loss did not improve from 1.16111\n",
            "Epoch 37/50\n",
            " - 37s - loss: 0.5388 - val_loss: 1.1660\n",
            "\n",
            "Epoch 00037: val_loss did not improve from 1.16111\n",
            "Epoch 38/50\n",
            " - 37s - loss: 0.5140 - val_loss: 1.1682\n",
            "\n",
            "Epoch 00038: val_loss did not improve from 1.16111\n",
            "Epoch 39/50\n",
            " - 38s - loss: 0.4904 - val_loss: 1.1710\n",
            "\n",
            "Epoch 00039: val_loss did not improve from 1.16111\n",
            "Epoch 40/50\n",
            " - 37s - loss: 0.4689 - val_loss: 1.1741\n",
            "\n",
            "Epoch 00040: val_loss did not improve from 1.16111\n",
            "Epoch 41/50\n",
            " - 38s - loss: 0.4490 - val_loss: 1.1746\n",
            "\n",
            "Epoch 00041: val_loss did not improve from 1.16111\n",
            "Epoch 42/50\n",
            " - 37s - loss: 0.4273 - val_loss: 1.1743\n",
            "\n",
            "Epoch 00042: val_loss did not improve from 1.16111\n",
            "Epoch 43/50\n",
            " - 37s - loss: 0.4074 - val_loss: 1.1835\n",
            "\n",
            "Epoch 00043: val_loss did not improve from 1.16111\n",
            "Epoch 44/50\n",
            " - 37s - loss: 0.3888 - val_loss: 1.1878\n",
            "\n",
            "Epoch 00044: val_loss did not improve from 1.16111\n",
            "Epoch 45/50\n",
            " - 37s - loss: 0.3711 - val_loss: 1.1915\n",
            "\n",
            "Epoch 00045: val_loss did not improve from 1.16111\n",
            "Epoch 46/50\n",
            " - 37s - loss: 0.3534 - val_loss: 1.1986\n",
            "\n",
            "Epoch 00046: val_loss did not improve from 1.16111\n",
            "Epoch 47/50\n",
            " - 38s - loss: 0.3374 - val_loss: 1.1981\n",
            "\n",
            "Epoch 00047: val_loss did not improve from 1.16111\n",
            "Epoch 48/50\n",
            " - 37s - loss: 0.3235 - val_loss: 1.2095\n",
            "\n",
            "Epoch 00048: val_loss did not improve from 1.16111\n",
            "Epoch 49/50\n",
            " - 37s - loss: 0.3091 - val_loss: 1.2182\n",
            "\n",
            "Epoch 00049: val_loss did not improve from 1.16111\n",
            "Epoch 50/50\n",
            " - 37s - loss: 0.2953 - val_loss: 1.2243\n",
            "\n",
            "Epoch 00050: val_loss did not improve from 1.16111\n"
          ],
          "name": "stdout"
        },
        {
          "output_type": "execute_result",
          "data": {
            "text/plain": [
              "<keras.callbacks.callbacks.History at 0x7f5d00283438>"
            ]
          },
          "metadata": {
            "tags": []
          },
          "execution_count": 32
        }
      ]
    },
    {
      "cell_type": "code",
      "metadata": {
        "id": "GAp90ileV6Jm",
        "colab_type": "code",
        "colab": {}
      },
      "source": [
        "def word_for_int(integer,tokenizer):\n",
        "  for word,index in tokenizer.word_index.items():\n",
        "    if index==integer:\n",
        "      return word\n",
        "  return None    "
      ],
      "execution_count": 33,
      "outputs": []
    },
    {
      "cell_type": "code",
      "metadata": {
        "id": "ARrU-SvcXm-d",
        "colab_type": "code",
        "colab": {}
      },
      "source": [
        "def predict_sequence(model, tokenizer, source):\n",
        "  prediction=model.predict(source,verbose=0)[0]\n",
        "  intgers=[np.argmax(vector) for vector in prediction]\n",
        "  target=[]\n",
        "  for i in intgers:\n",
        "    word=word_for_int(i,tokenizer)\n",
        "    if word is None :\n",
        "      break\n",
        "    target.append(word)\n",
        "  return ' '.join(target)    \n",
        "\n"
      ],
      "execution_count": 34,
      "outputs": []
    },
    {
      "cell_type": "code",
      "metadata": {
        "id": "-us8xVyUZnSV",
        "colab_type": "code",
        "colab": {}
      },
      "source": [
        "def evaluate_model(model, sources, raw_dataset):\n",
        "\tactual, predicted = list(), list()\n",
        "\tfor i, source in enumerate(sources):\n",
        "\t\t# translate encoded source text\n",
        "\t\tsource = source.reshape((1, source.shape[0]))\n",
        "\t\ttranslation = predict_sequence(model, eng_tokenizer, source)\n",
        "\t\traw_target, raw_src = raw_dataset[i]\n",
        "\t\tif i < 10:\n",
        "\t\t\tprint('src=[%s], target=[%s], predicted=[%s]' % (raw_src, raw_target, translation))\n",
        "\t\tactual.append(raw_target.split())\n",
        "\t\tpredicted.append(translation.split())\n",
        "\t# calculate BLEU score\n",
        "\tprint('BLEU-1: %f' % corpus_bleu(actual, predicted, weights=(1.0, 0, 0, 0)))\n",
        "\tprint('BLEU-2: %f' % corpus_bleu(actual, predicted, weights=(0.5, 0.5, 0, 0)))\n",
        "\tprint('BLEU-3: %f' % corpus_bleu(actual, predicted, weights=(0.3, 0.3, 0.3, 0)))\n",
        "\tprint('BLEU-4: %f' % corpus_bleu(actual, predicted, weights=(0.25, 0.25, 0.25, 0.25)))"
      ],
      "execution_count": 35,
      "outputs": []
    },
    {
      "cell_type": "code",
      "metadata": {
        "id": "ZPxQoa2HabGj",
        "colab_type": "code",
        "colab": {
          "base_uri": "https://localhost:8080/",
          "height": 339
        },
        "outputId": "62ed9514-f52f-4a8c-e13e-56c97104a679"
      },
      "source": [
        "from nltk.translate.bleu_score import corpus_bleu\n",
        "evaluate_model(model, x_train, train)"
      ],
      "execution_count": 36,
      "outputs": [
        {
          "output_type": "stream",
          "text": [
            "src=[tom starb jung], target=[tom died young], predicted=[tom died young]\n",
            "src=[starre mich nicht so an], target=[dont stare at me like that], predicted=[dont stare me me like me]\n",
            "src=[man kann sich seine eltern nicht aussuchen], target=[you cant choose your parents], predicted=[you cant choose your parents]\n",
            "src=[das zimmer wird von ihm gestrichen], target=[the room is being painted by him], predicted=[the room is painted painted by him]\n",
            "src=[sie ist stolz auf ihre kinder], target=[she is proud of her children], predicted=[she is proud of her children]\n",
            "src=[ich glaube nicht dass das wichtig ist], target=[i dont think it matters], predicted=[i dont think thats matters]\n",
            "src=[warum bist du nicht an dein mobiltelefon gegangen], target=[why didnt you answer your cell phone], predicted=[why didnt you meet your cell]\n",
            "src=[steig ins auto], target=[get into the car], predicted=[get into the car]\n",
            "src=[was hast du gedacht als du mich zum ersten mal uberhaupt getroffen hast], target=[what did you think when you actually met me for the first time], predicted=[what did you know i you you to to to for the first]\n"
          ],
          "name": "stdout"
        },
        {
          "output_type": "stream",
          "text": [
            "/usr/local/lib/python3.6/dist-packages/nltk/translate/bleu_score.py:490: UserWarning: \n",
            "Corpus/Sentence contains 0 counts of 3-gram overlaps.\n",
            "BLEU scores might be undesirable; use SmoothingFunction().\n",
            "  warnings.warn(_msg)\n"
          ],
          "name": "stderr"
        },
        {
          "output_type": "stream",
          "text": [
            "src=[toms und marias kleiner junge liebt es auf dem kuchenboden zu sitzen und gegen topfe und pfannen zu schlagen], target=[tom and marys little boy loves sitting on the kitchen floor banging pots and pans], predicted=[tom and marys and and boy sitting sitting sitting sitting river banging banging banging pots pots pots pans]\n",
            "BLEU-1: 0.054567\n",
            "BLEU-2: 0.000929\n",
            "BLEU-3: 0.015169\n",
            "BLEU-4: 0.030488\n"
          ],
          "name": "stdout"
        }
      ]
    },
    {
      "cell_type": "code",
      "metadata": {
        "id": "ZXjLzBzdahON",
        "colab_type": "code",
        "colab": {}
      },
      "source": [
        "### inference \n",
        "seed_text='Mir ist es wichtig'\n",
        "s=clean_input(seed_text)\n",
        "encoded=ger_tokenizer.texts_to_sequences([s])[0]\n",
        "padded=pad_sequences([encoded],maxlen=ger_length,padding='post')\n",
        "#source = source.reshape((1, source.shape[0]))\n",
        "translation = predict_sequence(model, eng_tokenizer, padded)\n",
        "\n"
      ],
      "execution_count": 67,
      "outputs": []
    },
    {
      "cell_type": "code",
      "metadata": {
        "id": "hz81X89Nc9Eq",
        "colab_type": "code",
        "colab": {
          "base_uri": "https://localhost:8080/",
          "height": 35
        },
        "outputId": "81b87b36-0eb6-43e2-9f4c-7c537033f6c5"
      },
      "source": [
        "translation"
      ],
      "execution_count": 68,
      "outputs": [
        {
          "output_type": "execute_result",
          "data": {
            "application/vnd.google.colaboratory.intrinsic": {
              "type": "string"
            },
            "text/plain": [
              "'i tried'"
            ]
          },
          "metadata": {
            "tags": []
          },
          "execution_count": 68
        }
      ]
    },
    {
      "cell_type": "code",
      "metadata": {
        "id": "JNyraSHbdM17",
        "colab_type": "code",
        "colab": {}
      },
      "source": [
        "def inference(seed_text):\n",
        "  cleaned_text=clean_input(seed_text)\n",
        "  encoded=ger_tokenizer.texts_to_sequences([cleaned_text])[0]\n",
        "  padded=pad_sequences([encoded],maxlen=ger_length,padding='post')\n",
        "  #source = source.reshape((1, source.shape[0]))\n",
        "  translation = predict_sequence(model, eng_tokenizer, padded)\n",
        "  return translation \n",
        "\n",
        "\n"
      ],
      "execution_count": 37,
      "outputs": []
    },
    {
      "cell_type": "code",
      "metadata": {
        "id": "xJIqU7zpeNAV",
        "colab_type": "code",
        "colab": {
          "base_uri": "https://localhost:8080/",
          "height": 34
        },
        "outputId": "041ac6a6-f23b-4761-d6a2-9a2c18c4f875"
      },
      "source": [
        "print(inference('Es tut mir leid'))"
      ],
      "execution_count": 44,
      "outputs": [
        {
          "output_type": "stream",
          "text": [
            "i sorry sorry sorry\n"
          ],
          "name": "stdout"
        }
      ]
    },
    {
      "cell_type": "code",
      "metadata": {
        "id": "N2qUI6mweUrN",
        "colab_type": "code",
        "colab": {}
      },
      "source": [
        ""
      ],
      "execution_count": null,
      "outputs": []
    }
  ]
}